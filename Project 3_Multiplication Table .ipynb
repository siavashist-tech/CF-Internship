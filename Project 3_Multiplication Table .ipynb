{
 "cells": [
  {
   "cell_type": "markdown",
   "id": "3ddfd86f",
   "metadata": {},
   "source": [
    "# Project: MULTIPLICATION TABLE\n"
   ]
  },
  {
   "cell_type": "markdown",
   "id": "6835a3e6",
   "metadata": {},
   "source": [
    "Institution: College Finder India"
   ]
  },
  {
   "cell_type": "code",
   "execution_count": 1,
   "id": "312a71c7",
   "metadata": {},
   "outputs": [
    {
     "name": "stdout",
     "output_type": "stream",
     "text": [
      "Enter the number: 10\n",
      "--------------------------------------------------------------------------------\n",
      "Multiplication table of 10\n",
      "10 x 1 = 10\n",
      "10 x 2 = 20\n",
      "10 x 3 = 30\n",
      "10 x 4 = 40\n",
      "10 x 5 = 50\n",
      "10 x 6 = 60\n",
      "10 x 7 = 70\n",
      "10 x 8 = 80\n",
      "10 x 9 = 90\n",
      "10 x 10 = 100\n"
     ]
    }
   ],
   "source": [
    "Number =int(input(\"Enter the number: \"))\n",
    "i=1\n",
    "print(\"--------------------------------------------------------------------------------\")\n",
    "print(\"Multiplication table of {Number}\".format(Number=Number))\n",
    "while(i<=10):\n",
    "    print(Number,\"x\",i,\"=\",Number*i)\n",
    "    i=i+1"
   ]
  },
  {
   "cell_type": "code",
   "execution_count": null,
   "id": "5db06409",
   "metadata": {},
   "outputs": [],
   "source": []
  }
 ],
 "metadata": {
  "kernelspec": {
   "display_name": "Python 3 (ipykernel)",
   "language": "python",
   "name": "python3"
  },
  "language_info": {
   "codemirror_mode": {
    "name": "ipython",
    "version": 3
   },
   "file_extension": ".py",
   "mimetype": "text/x-python",
   "name": "python",
   "nbconvert_exporter": "python",
   "pygments_lexer": "ipython3",
   "version": "3.9.7"
  }
 },
 "nbformat": 4,
 "nbformat_minor": 5
}
